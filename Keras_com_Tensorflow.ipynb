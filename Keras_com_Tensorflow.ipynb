{
 "cells": [
  {
   "cell_type": "code",
   "execution_count": 1,
   "metadata": {
    "colab": {
     "base_uri": "https://localhost:8080/",
     "height": 34
    },
    "colab_type": "code",
    "id": "oOnGHdtFr0kV",
    "outputId": "dfa8e999-6664-4b86-fbb2-63a59cfaa996"
   },
   "outputs": [
    {
     "name": "stderr",
     "output_type": "stream",
     "text": [
      "/home/jeziel/anaconda3/lib/python3.6/site-packages/h5py/__init__.py:36: FutureWarning: Conversion of the second argument of issubdtype from `float` to `np.floating` is deprecated. In future, it will be treated as `np.float64 == np.dtype(float).type`.\n",
      "  from ._conv import register_converters as _register_converters\n",
      "Using TensorFlow backend.\n"
     ]
    }
   ],
   "source": [
    "from keras.layers import Dense, Dropout\n",
    "from keras.models import Sequential\n",
    "from keras.optimizers import Adam\n",
    "from keras.regularizers import l2\n",
    "from keras.callbacks import TensorBoard, EarlyStopping\n",
    "\n",
    "import numpy as np\n",
    "import pandas as pd\n",
    "\n",
    "from sklearn.model_selection import train_test_split\n",
    "\n",
    "from matplotlib import pyplot as plt\n",
    "%matplotlib inline\n",
    "\n",
    "import tensorflow as tf\n",
    "\n",
    "np.random.seed(2)\n",
    "tf.set_random_seed(2)"
   ]
  },
  {
   "cell_type": "code",
   "execution_count": 2,
   "metadata": {
    "colab": {
     "base_uri": "https://localhost:8080/",
     "height": 394
    },
    "colab_type": "code",
    "id": "KMizzGpqsARA",
    "outputId": "90638c5b-eec7-4c9b-82df-8b254c9401f3"
   },
   "outputs": [
    {
     "name": "stdout",
     "output_type": "stream",
     "text": [
      "--2019-01-16 01:51:43--  https://drive.google.com/uc?authuser=0&id=1xY5KzQq6arMtAsH-L5ikH8FqX1ecjJua&export=download\n",
      "Resolving drive.google.com (drive.google.com)... 2800:3f0:4001:80b::200e, 172.217.28.142\n",
      "Connecting to drive.google.com (drive.google.com)|2800:3f0:4001:80b::200e|:443... connected.\n",
      "HTTP request sent, awaiting response... 302 Moved Temporarily\n",
      "Location: https://drive.google.com/uc?id=1xY5KzQq6arMtAsH-L5ikH8FqX1ecjJua&export=download [following]\n",
      "--2019-01-16 01:51:44--  https://drive.google.com/uc?id=1xY5KzQq6arMtAsH-L5ikH8FqX1ecjJua&export=download\n",
      "Reusing existing connection to [drive.google.com]:443.\n",
      "HTTP request sent, awaiting response... 302 Moved Temporarily\n",
      "Location: https://doc-0g-3c-docs.googleusercontent.com/docs/securesc/ha0ro937gcuc7l7deffksulhg5h7mbp1/h7203trcukvrn1m135mrqo7mg6srtkk1/1547604000000/00164243298909727716/*/1xY5KzQq6arMtAsH-L5ikH8FqX1ecjJua?e=download [following]\n",
      "Warning: wildcards not supported in HTTP.\n",
      "--2019-01-16 01:51:44--  https://doc-0g-3c-docs.googleusercontent.com/docs/securesc/ha0ro937gcuc7l7deffksulhg5h7mbp1/h7203trcukvrn1m135mrqo7mg6srtkk1/1547604000000/00164243298909727716/*/1xY5KzQq6arMtAsH-L5ikH8FqX1ecjJua?e=download\n",
      "Resolving doc-0g-3c-docs.googleusercontent.com (doc-0g-3c-docs.googleusercontent.com)... 2800:3f0:4001:803::2001, 172.217.30.33\n",
      "Connecting to doc-0g-3c-docs.googleusercontent.com (doc-0g-3c-docs.googleusercontent.com)|2800:3f0:4001:803::2001|:443... connected.\n",
      "HTTP request sent, awaiting response... 200 OK\n",
      "Length: 23873 (23K) [text/csv]\n",
      "Saving to: ‘uc?authuser=0&id=1xY5KzQq6arMtAsH-L5ikH8FqX1ecjJua&export=download’\n",
      "\n",
      "uc?authuser=0&id=1x 100%[===================>]  23,31K  --.-KB/s    in 0,02s   \n",
      "\n",
      "2019-01-16 01:51:45 (1,09 MB/s) - ‘uc?authuser=0&id=1xY5KzQq6arMtAsH-L5ikH8FqX1ecjJua&export=download’ saved [23873/23873]\n",
      "\n"
     ]
    }
   ],
   "source": [
    "!wget 'https://drive.google.com/uc?authuser=0&id=1xY5KzQq6arMtAsH-L5ikH8FqX1ecjJua&export=download'\n",
    "!mv 'uc?authuser=0&id=1xY5KzQq6arMtAsH-L5ikH8FqX1ecjJua&export=download' diabetic.csv"
   ]
  },
  {
   "cell_type": "code",
   "execution_count": 3,
   "metadata": {
    "colab": {},
    "colab_type": "code",
    "id": "fJa8QpXTsMb-"
   },
   "outputs": [],
   "source": [
    "dataset = pd.read_csv('diabetic.csv', usecols=['Pregnancies','Glucose','BloodPressure','BMI','Age','Outcome'])"
   ]
  },
  {
   "cell_type": "code",
   "execution_count": 4,
   "metadata": {
    "colab": {
     "base_uri": "https://localhost:8080/",
     "height": 204
    },
    "colab_type": "code",
    "id": "T6Gx-lk0sVjN",
    "outputId": "0a8f58c2-5f58-4caa-86d8-277798006775"
   },
   "outputs": [
    {
     "data": {
      "text/html": [
       "<div>\n",
       "<style scoped>\n",
       "    .dataframe tbody tr th:only-of-type {\n",
       "        vertical-align: middle;\n",
       "    }\n",
       "\n",
       "    .dataframe tbody tr th {\n",
       "        vertical-align: top;\n",
       "    }\n",
       "\n",
       "    .dataframe thead th {\n",
       "        text-align: right;\n",
       "    }\n",
       "</style>\n",
       "<table border=\"1\" class=\"dataframe\">\n",
       "  <thead>\n",
       "    <tr style=\"text-align: right;\">\n",
       "      <th></th>\n",
       "      <th>Pregnancies</th>\n",
       "      <th>Glucose</th>\n",
       "      <th>BloodPressure</th>\n",
       "      <th>BMI</th>\n",
       "      <th>Age</th>\n",
       "      <th>Outcome</th>\n",
       "    </tr>\n",
       "  </thead>\n",
       "  <tbody>\n",
       "    <tr>\n",
       "      <th>0</th>\n",
       "      <td>6</td>\n",
       "      <td>148</td>\n",
       "      <td>72</td>\n",
       "      <td>33.6</td>\n",
       "      <td>50</td>\n",
       "      <td>1</td>\n",
       "    </tr>\n",
       "    <tr>\n",
       "      <th>1</th>\n",
       "      <td>1</td>\n",
       "      <td>85</td>\n",
       "      <td>66</td>\n",
       "      <td>26.6</td>\n",
       "      <td>31</td>\n",
       "      <td>0</td>\n",
       "    </tr>\n",
       "    <tr>\n",
       "      <th>2</th>\n",
       "      <td>8</td>\n",
       "      <td>183</td>\n",
       "      <td>64</td>\n",
       "      <td>23.3</td>\n",
       "      <td>32</td>\n",
       "      <td>1</td>\n",
       "    </tr>\n",
       "    <tr>\n",
       "      <th>3</th>\n",
       "      <td>1</td>\n",
       "      <td>89</td>\n",
       "      <td>66</td>\n",
       "      <td>28.1</td>\n",
       "      <td>21</td>\n",
       "      <td>0</td>\n",
       "    </tr>\n",
       "    <tr>\n",
       "      <th>4</th>\n",
       "      <td>0</td>\n",
       "      <td>137</td>\n",
       "      <td>40</td>\n",
       "      <td>43.1</td>\n",
       "      <td>33</td>\n",
       "      <td>1</td>\n",
       "    </tr>\n",
       "  </tbody>\n",
       "</table>\n",
       "</div>"
      ],
      "text/plain": [
       "   Pregnancies  Glucose  BloodPressure   BMI  Age  Outcome\n",
       "0            6      148             72  33.6   50        1\n",
       "1            1       85             66  26.6   31        0\n",
       "2            8      183             64  23.3   32        1\n",
       "3            1       89             66  28.1   21        0\n",
       "4            0      137             40  43.1   33        1"
      ]
     },
     "execution_count": 4,
     "metadata": {},
     "output_type": "execute_result"
    }
   ],
   "source": [
    "dataset.head()"
   ]
  },
  {
   "cell_type": "code",
   "execution_count": 5,
   "metadata": {
    "colab": {},
    "colab_type": "code",
    "id": "bvwMzgJ0sVmn"
   },
   "outputs": [],
   "source": [
    "# converte os dados para numpy array\n",
    "X = dataset.iloc[:,:-1]\n",
    "y = dataset.iloc[:,[-1]]"
   ]
  },
  {
   "cell_type": "code",
   "execution_count": 6,
   "metadata": {
    "colab": {},
    "colab_type": "code",
    "id": "sgCKhMtBsVoT"
   },
   "outputs": [
    {
     "name": "stderr",
     "output_type": "stream",
     "text": [
      "/home/jeziel/anaconda3/lib/python3.6/site-packages/ipykernel_launcher.py:1: FutureWarning: Method .as_matrix will be removed in a future version. Use .values instead.\n",
      "  \"\"\"Entry point for launching an IPython kernel.\n"
     ]
    }
   ],
   "source": [
    "X_train, X_test, y_train, y_test = train_test_split(X.as_matrix(), y.as_matrix(), test_size=0.2, shuffle=True, random_state=42)"
   ]
  },
  {
   "cell_type": "code",
   "execution_count": 7,
   "metadata": {
    "colab": {},
    "colab_type": "code",
    "id": "lq7ree-asVrU"
   },
   "outputs": [],
   "source": [
    "model = Sequential()\n",
    "model.add(Dense(64, activation='relu', kernel_regularizer=l2(0.01)))\n",
    "model.add(Dense(128, activation='relu', kernel_regularizer=l2(0.01)))\n",
    "model.add(Dropout(0.2))\n",
    "model.add(Dense(1, activation='sigmoid'))"
   ]
  },
  {
   "cell_type": "code",
   "execution_count": 8,
   "metadata": {
    "colab": {},
    "colab_type": "code",
    "id": "6SDn63ip_ONL"
   },
   "outputs": [],
   "source": [
    "model.compile(optimizer=Adam(1e-3), loss='binary_crossentropy', metrics=['accuracy'])"
   ]
  },
  {
   "cell_type": "code",
   "execution_count": 9,
   "metadata": {
    "colab": {
     "base_uri": "https://localhost:8080/",
     "height": 17034
    },
    "colab_type": "code",
    "id": "uvJZ21cI_OWY",
    "outputId": "7df885cc-d90c-401d-d152-c16ffa94f5ef"
   },
   "outputs": [
    {
     "name": "stdout",
     "output_type": "stream",
     "text": [
      "Train on 614 samples, validate on 154 samples\n",
      "Epoch 1/500\n",
      "614/614 [==============================] - 0s 424us/step - loss: 3.6926 - acc: 0.5896 - val_loss: 1.5914 - val_acc: 0.7078\n",
      "Epoch 2/500\n",
      "614/614 [==============================] - 0s 89us/step - loss: 2.7013 - acc: 0.5928 - val_loss: 1.6838 - val_acc: 0.5779\n",
      "Epoch 3/500\n",
      "614/614 [==============================] - 0s 80us/step - loss: 1.9628 - acc: 0.6287 - val_loss: 1.2586 - val_acc: 0.7143\n",
      "Epoch 4/500\n",
      "614/614 [==============================] - 0s 79us/step - loss: 1.7451 - acc: 0.6221 - val_loss: 1.2311 - val_acc: 0.7078\n",
      "Epoch 5/500\n",
      "614/614 [==============================] - 0s 81us/step - loss: 1.5428 - acc: 0.6254 - val_loss: 1.2361 - val_acc: 0.6558\n",
      "Epoch 6/500\n",
      "614/614 [==============================] - 0s 84us/step - loss: 1.2393 - acc: 0.6466 - val_loss: 1.0862 - val_acc: 0.7208\n",
      "Epoch 7/500\n",
      "614/614 [==============================] - 0s 79us/step - loss: 1.1411 - acc: 0.6596 - val_loss: 1.0240 - val_acc: 0.7403\n",
      "Epoch 8/500\n",
      "614/614 [==============================] - 0s 88us/step - loss: 1.0702 - acc: 0.6564 - val_loss: 1.0179 - val_acc: 0.7338\n",
      "Epoch 9/500\n",
      "614/614 [==============================] - 0s 109us/step - loss: 1.0428 - acc: 0.6775 - val_loss: 1.0314 - val_acc: 0.7078\n",
      "Epoch 10/500\n",
      "614/614 [==============================] - 0s 111us/step - loss: 0.9916 - acc: 0.6824 - val_loss: 1.0041 - val_acc: 0.7208\n",
      "Epoch 11/500\n",
      "614/614 [==============================] - 0s 96us/step - loss: 0.9760 - acc: 0.6857 - val_loss: 0.9932 - val_acc: 0.7403\n",
      "Epoch 12/500\n",
      "614/614 [==============================] - 0s 98us/step - loss: 0.9667 - acc: 0.6889 - val_loss: 1.0039 - val_acc: 0.7143\n",
      "Epoch 13/500\n",
      "614/614 [==============================] - 0s 96us/step - loss: 0.9526 - acc: 0.6971 - val_loss: 0.9744 - val_acc: 0.7208\n",
      "Epoch 14/500\n",
      "614/614 [==============================] - 0s 80us/step - loss: 0.9448 - acc: 0.7182 - val_loss: 0.9976 - val_acc: 0.6753\n",
      "Epoch 15/500\n",
      "614/614 [==============================] - 0s 80us/step - loss: 0.9410 - acc: 0.6808 - val_loss: 0.9454 - val_acc: 0.7338\n",
      "Epoch 16/500\n",
      "614/614 [==============================] - 0s 84us/step - loss: 0.9370 - acc: 0.6971 - val_loss: 0.9588 - val_acc: 0.7143\n",
      "Epoch 17/500\n",
      "614/614 [==============================] - 0s 178us/step - loss: 0.9149 - acc: 0.7280 - val_loss: 0.9645 - val_acc: 0.6883\n",
      "Epoch 18/500\n",
      "614/614 [==============================] - 0s 159us/step - loss: 0.9075 - acc: 0.6987 - val_loss: 0.9558 - val_acc: 0.7273\n",
      "Epoch 19/500\n",
      "614/614 [==============================] - 0s 101us/step - loss: 0.8984 - acc: 0.6987 - val_loss: 0.9751 - val_acc: 0.7013\n",
      "Epoch 20/500\n",
      "614/614 [==============================] - 0s 125us/step - loss: 0.8991 - acc: 0.6987 - val_loss: 0.9497 - val_acc: 0.7078\n",
      "Epoch 21/500\n",
      "614/614 [==============================] - 0s 146us/step - loss: 0.8973 - acc: 0.6987 - val_loss: 0.9057 - val_acc: 0.7338\n",
      "Epoch 22/500\n",
      "614/614 [==============================] - 0s 147us/step - loss: 0.8803 - acc: 0.7134 - val_loss: 0.9289 - val_acc: 0.7143\n",
      "Epoch 23/500\n",
      "614/614 [==============================] - 0s 122us/step - loss: 0.8698 - acc: 0.7068 - val_loss: 0.9583 - val_acc: 0.6883\n",
      "Epoch 24/500\n",
      "614/614 [==============================] - 0s 145us/step - loss: 0.8754 - acc: 0.6938 - val_loss: 0.9143 - val_acc: 0.7143\n",
      "Epoch 25/500\n",
      "614/614 [==============================] - 0s 109us/step - loss: 0.8605 - acc: 0.7182 - val_loss: 0.9190 - val_acc: 0.7078\n",
      "Epoch 26/500\n",
      "614/614 [==============================] - 0s 151us/step - loss: 0.8633 - acc: 0.6922 - val_loss: 0.9006 - val_acc: 0.7208\n",
      "Epoch 27/500\n",
      "614/614 [==============================] - 0s 145us/step - loss: 0.8628 - acc: 0.7068 - val_loss: 0.8845 - val_acc: 0.7208\n",
      "Epoch 28/500\n",
      "614/614 [==============================] - 0s 150us/step - loss: 0.8645 - acc: 0.6906 - val_loss: 0.8803 - val_acc: 0.7273\n",
      "Epoch 29/500\n",
      "614/614 [==============================] - 0s 131us/step - loss: 0.8419 - acc: 0.7085 - val_loss: 0.9011 - val_acc: 0.7078\n",
      "Epoch 30/500\n",
      "614/614 [==============================] - 0s 157us/step - loss: 0.8336 - acc: 0.7085 - val_loss: 0.8806 - val_acc: 0.7403\n",
      "Epoch 31/500\n",
      "614/614 [==============================] - 0s 147us/step - loss: 0.8387 - acc: 0.6938 - val_loss: 0.8778 - val_acc: 0.7143\n",
      "Epoch 32/500\n",
      "614/614 [==============================] - 0s 144us/step - loss: 0.8195 - acc: 0.7166 - val_loss: 0.8555 - val_acc: 0.7338\n",
      "Epoch 33/500\n",
      "614/614 [==============================] - 0s 147us/step - loss: 0.8072 - acc: 0.7166 - val_loss: 0.8455 - val_acc: 0.7078\n",
      "Epoch 34/500\n",
      "614/614 [==============================] - 0s 144us/step - loss: 0.8150 - acc: 0.7280 - val_loss: 0.8472 - val_acc: 0.7338\n",
      "Epoch 35/500\n",
      "614/614 [==============================] - 0s 133us/step - loss: 0.8003 - acc: 0.7068 - val_loss: 0.8531 - val_acc: 0.7597\n",
      "Epoch 36/500\n",
      "614/614 [==============================] - 0s 176us/step - loss: 0.8071 - acc: 0.7052 - val_loss: 0.8512 - val_acc: 0.7597\n",
      "Epoch 37/500\n",
      "614/614 [==============================] - 0s 159us/step - loss: 0.7965 - acc: 0.7068 - val_loss: 0.8403 - val_acc: 0.7338\n",
      "Epoch 38/500\n",
      "614/614 [==============================] - 0s 127us/step - loss: 0.7958 - acc: 0.7215 - val_loss: 0.8449 - val_acc: 0.7273\n",
      "Epoch 39/500\n",
      "614/614 [==============================] - 0s 178us/step - loss: 0.8067 - acc: 0.6922 - val_loss: 0.8374 - val_acc: 0.7208\n",
      "Epoch 40/500\n",
      "614/614 [==============================] - 0s 159us/step - loss: 0.7845 - acc: 0.7215 - val_loss: 0.8244 - val_acc: 0.7468\n",
      "Epoch 41/500\n",
      "614/614 [==============================] - 0s 230us/step - loss: 0.7866 - acc: 0.7101 - val_loss: 0.8175 - val_acc: 0.7597\n",
      "Epoch 42/500\n",
      "614/614 [==============================] - 0s 175us/step - loss: 0.7784 - acc: 0.7280 - val_loss: 0.8158 - val_acc: 0.7338\n",
      "Epoch 43/500\n",
      "614/614 [==============================] - 0s 160us/step - loss: 0.7626 - acc: 0.7313 - val_loss: 0.8189 - val_acc: 0.7403\n",
      "Epoch 44/500\n",
      "614/614 [==============================] - 0s 190us/step - loss: 0.7608 - acc: 0.7231 - val_loss: 0.8128 - val_acc: 0.7468\n",
      "Epoch 45/500\n",
      "614/614 [==============================] - 0s 228us/step - loss: 0.7653 - acc: 0.7166 - val_loss: 0.8058 - val_acc: 0.7208\n",
      "Epoch 46/500\n",
      "614/614 [==============================] - 0s 124us/step - loss: 0.7522 - acc: 0.7182 - val_loss: 0.8118 - val_acc: 0.7273\n",
      "Epoch 47/500\n",
      "614/614 [==============================] - 0s 131us/step - loss: 0.7550 - acc: 0.7248 - val_loss: 0.8156 - val_acc: 0.6883\n",
      "Epoch 48/500\n",
      "614/614 [==============================] - 0s 217us/step - loss: 0.7517 - acc: 0.7215 - val_loss: 0.8035 - val_acc: 0.7338\n",
      "Epoch 49/500\n",
      "614/614 [==============================] - 0s 223us/step - loss: 0.7369 - acc: 0.7248 - val_loss: 0.8122 - val_acc: 0.7208\n",
      "Epoch 50/500\n",
      "614/614 [==============================] - 0s 194us/step - loss: 0.7404 - acc: 0.7134 - val_loss: 0.8014 - val_acc: 0.7143\n",
      "Epoch 51/500\n",
      "614/614 [==============================] - 0s 201us/step - loss: 0.7440 - acc: 0.7003 - val_loss: 0.7930 - val_acc: 0.7532\n",
      "Epoch 52/500\n",
      "614/614 [==============================] - 0s 99us/step - loss: 0.7239 - acc: 0.7329 - val_loss: 0.7830 - val_acc: 0.7338\n",
      "Epoch 53/500\n",
      "614/614 [==============================] - 0s 63us/step - loss: 0.7450 - acc: 0.7166 - val_loss: 0.7639 - val_acc: 0.7273\n",
      "Epoch 54/500\n",
      "614/614 [==============================] - 0s 63us/step - loss: 0.7277 - acc: 0.7215 - val_loss: 0.7835 - val_acc: 0.7208\n",
      "Epoch 55/500\n",
      "614/614 [==============================] - 0s 64us/step - loss: 0.7323 - acc: 0.7264 - val_loss: 0.7678 - val_acc: 0.7208\n",
      "Epoch 56/500\n",
      "614/614 [==============================] - 0s 61us/step - loss: 0.7208 - acc: 0.7410 - val_loss: 0.7686 - val_acc: 0.7403\n",
      "Epoch 57/500\n",
      "614/614 [==============================] - 0s 62us/step - loss: 0.7194 - acc: 0.7150 - val_loss: 0.7586 - val_acc: 0.7403\n",
      "Epoch 58/500\n",
      "614/614 [==============================] - 0s 67us/step - loss: 0.7234 - acc: 0.7296 - val_loss: 0.7645 - val_acc: 0.7273\n",
      "Epoch 59/500\n",
      "614/614 [==============================] - 0s 65us/step - loss: 0.7111 - acc: 0.7345 - val_loss: 0.7870 - val_acc: 0.6948\n",
      "Epoch 60/500\n",
      "614/614 [==============================] - 0s 69us/step - loss: 0.7281 - acc: 0.7182 - val_loss: 0.7633 - val_acc: 0.7532\n",
      "Epoch 61/500\n"
     ]
    },
    {
     "name": "stdout",
     "output_type": "stream",
     "text": [
      "614/614 [==============================] - 0s 62us/step - loss: 0.7094 - acc: 0.7231 - val_loss: 0.7526 - val_acc: 0.7338\n",
      "Epoch 62/500\n",
      "614/614 [==============================] - 0s 61us/step - loss: 0.7087 - acc: 0.7166 - val_loss: 0.7519 - val_acc: 0.7208\n",
      "Epoch 63/500\n",
      "614/614 [==============================] - 0s 58us/step - loss: 0.7204 - acc: 0.7215 - val_loss: 0.7399 - val_acc: 0.7273\n",
      "Epoch 64/500\n",
      "614/614 [==============================] - 0s 68us/step - loss: 0.7002 - acc: 0.7264 - val_loss: 0.7406 - val_acc: 0.7208\n",
      "Epoch 65/500\n",
      "614/614 [==============================] - 0s 66us/step - loss: 0.6998 - acc: 0.7362 - val_loss: 0.7213 - val_acc: 0.7662\n",
      "Epoch 66/500\n",
      "614/614 [==============================] - 0s 64us/step - loss: 0.7014 - acc: 0.7248 - val_loss: 0.7301 - val_acc: 0.7338\n",
      "Epoch 67/500\n",
      "614/614 [==============================] - 0s 61us/step - loss: 0.6974 - acc: 0.7231 - val_loss: 0.7454 - val_acc: 0.7403\n",
      "Epoch 68/500\n",
      "614/614 [==============================] - 0s 60us/step - loss: 0.6957 - acc: 0.7410 - val_loss: 0.7320 - val_acc: 0.7338\n",
      "Epoch 69/500\n",
      "614/614 [==============================] - 0s 69us/step - loss: 0.6782 - acc: 0.7492 - val_loss: 0.7240 - val_acc: 0.7273\n",
      "Epoch 70/500\n",
      "614/614 [==============================] - 0s 57us/step - loss: 0.6858 - acc: 0.7280 - val_loss: 0.7094 - val_acc: 0.7208\n",
      "Epoch 71/500\n",
      "614/614 [==============================] - 0s 57us/step - loss: 0.6866 - acc: 0.7199 - val_loss: 0.7347 - val_acc: 0.7338\n",
      "Epoch 72/500\n",
      "614/614 [==============================] - 0s 56us/step - loss: 0.6834 - acc: 0.7020 - val_loss: 0.7259 - val_acc: 0.7403\n",
      "Epoch 73/500\n",
      "614/614 [==============================] - 0s 106us/step - loss: 0.6832 - acc: 0.7329 - val_loss: 0.7006 - val_acc: 0.7532\n",
      "Epoch 74/500\n",
      "614/614 [==============================] - 0s 115us/step - loss: 0.6749 - acc: 0.7117 - val_loss: 0.7095 - val_acc: 0.7597\n",
      "Epoch 75/500\n",
      "614/614 [==============================] - 0s 109us/step - loss: 0.6720 - acc: 0.7231 - val_loss: 0.7102 - val_acc: 0.7468\n",
      "Epoch 76/500\n",
      "614/614 [==============================] - 0s 108us/step - loss: 0.6645 - acc: 0.7068 - val_loss: 0.6945 - val_acc: 0.7597\n",
      "Epoch 77/500\n",
      "614/614 [==============================] - 0s 59us/step - loss: 0.6746 - acc: 0.7264 - val_loss: 0.7073 - val_acc: 0.7597\n",
      "Epoch 78/500\n",
      "614/614 [==============================] - 0s 57us/step - loss: 0.6594 - acc: 0.7166 - val_loss: 0.7166 - val_acc: 0.7338\n",
      "Epoch 79/500\n",
      "614/614 [==============================] - 0s 58us/step - loss: 0.6555 - acc: 0.7378 - val_loss: 0.7216 - val_acc: 0.7208\n",
      "Epoch 80/500\n",
      "614/614 [==============================] - 0s 57us/step - loss: 0.6684 - acc: 0.7296 - val_loss: 0.6863 - val_acc: 0.7468\n",
      "Epoch 81/500\n",
      "614/614 [==============================] - 0s 58us/step - loss: 0.6586 - acc: 0.7003 - val_loss: 0.6911 - val_acc: 0.7403\n",
      "Epoch 82/500\n",
      "614/614 [==============================] - 0s 58us/step - loss: 0.6479 - acc: 0.7231 - val_loss: 0.6853 - val_acc: 0.7338\n",
      "Epoch 83/500\n",
      "614/614 [==============================] - 0s 86us/step - loss: 0.6547 - acc: 0.7117 - val_loss: 0.6888 - val_acc: 0.7662\n",
      "Epoch 84/500\n",
      "614/614 [==============================] - 0s 112us/step - loss: 0.6447 - acc: 0.7296 - val_loss: 0.6982 - val_acc: 0.7532\n",
      "Epoch 85/500\n",
      "614/614 [==============================] - 0s 196us/step - loss: 0.6478 - acc: 0.7215 - val_loss: 0.6889 - val_acc: 0.7597\n",
      "Epoch 86/500\n",
      "614/614 [==============================] - 0s 144us/step - loss: 0.6476 - acc: 0.7199 - val_loss: 0.7019 - val_acc: 0.7338\n",
      "Epoch 87/500\n",
      "614/614 [==============================] - 0s 171us/step - loss: 0.6458 - acc: 0.7280 - val_loss: 0.6725 - val_acc: 0.7468\n",
      "Epoch 88/500\n",
      "614/614 [==============================] - 0s 164us/step - loss: 0.6249 - acc: 0.7443 - val_loss: 0.6785 - val_acc: 0.7273\n",
      "Epoch 89/500\n",
      "614/614 [==============================] - 0s 127us/step - loss: 0.6324 - acc: 0.7248 - val_loss: 0.7082 - val_acc: 0.7338\n",
      "Epoch 90/500\n",
      "614/614 [==============================] - 0s 154us/step - loss: 0.6427 - acc: 0.7134 - val_loss: 0.6898 - val_acc: 0.7403\n",
      "Epoch 91/500\n",
      "614/614 [==============================] - 0s 136us/step - loss: 0.6339 - acc: 0.7296 - val_loss: 0.6793 - val_acc: 0.7403\n",
      "Epoch 92/500\n",
      "614/614 [==============================] - 0s 132us/step - loss: 0.6392 - acc: 0.7215 - val_loss: 0.7079 - val_acc: 0.7208\n",
      "Epoch 93/500\n",
      "614/614 [==============================] - 0s 149us/step - loss: 0.6284 - acc: 0.7280 - val_loss: 0.6807 - val_acc: 0.7273\n",
      "Epoch 94/500\n",
      "614/614 [==============================] - 0s 160us/step - loss: 0.6234 - acc: 0.7296 - val_loss: 0.6742 - val_acc: 0.7403\n",
      "Epoch 95/500\n",
      "614/614 [==============================] - 0s 146us/step - loss: 0.6277 - acc: 0.7199 - val_loss: 0.6736 - val_acc: 0.7273\n",
      "Epoch 96/500\n",
      "614/614 [==============================] - 0s 171us/step - loss: 0.6421 - acc: 0.7296 - val_loss: 0.6973 - val_acc: 0.7078\n",
      "Epoch 97/500\n",
      "614/614 [==============================] - 0s 120us/step - loss: 0.6477 - acc: 0.7182 - val_loss: 0.6572 - val_acc: 0.7727\n",
      "Epoch 98/500\n",
      "614/614 [==============================] - 0s 114us/step - loss: 0.6270 - acc: 0.7231 - val_loss: 0.6686 - val_acc: 0.7468\n",
      "Epoch 99/500\n",
      "614/614 [==============================] - 0s 126us/step - loss: 0.6130 - acc: 0.7459 - val_loss: 0.6902 - val_acc: 0.7338\n",
      "Epoch 100/500\n",
      "614/614 [==============================] - 0s 177us/step - loss: 0.6212 - acc: 0.7280 - val_loss: 0.6884 - val_acc: 0.7338\n",
      "Epoch 101/500\n",
      "614/614 [==============================] - 0s 128us/step - loss: 0.6182 - acc: 0.7280 - val_loss: 0.6477 - val_acc: 0.7338\n",
      "Epoch 102/500\n",
      "614/614 [==============================] - 0s 129us/step - loss: 0.6086 - acc: 0.7313 - val_loss: 0.6479 - val_acc: 0.7662\n",
      "Epoch 103/500\n",
      "614/614 [==============================] - 0s 166us/step - loss: 0.6052 - acc: 0.7362 - val_loss: 0.6677 - val_acc: 0.7403\n",
      "Epoch 104/500\n",
      "614/614 [==============================] - 0s 158us/step - loss: 0.6328 - acc: 0.7052 - val_loss: 0.6659 - val_acc: 0.7338\n",
      "Epoch 105/500\n",
      "614/614 [==============================] - 0s 152us/step - loss: 0.6108 - acc: 0.7345 - val_loss: 0.6599 - val_acc: 0.7403\n",
      "Epoch 106/500\n",
      "614/614 [==============================] - 0s 205us/step - loss: 0.6202 - acc: 0.7215 - val_loss: 0.6369 - val_acc: 0.7273\n",
      "Epoch 107/500\n",
      "614/614 [==============================] - 0s 156us/step - loss: 0.5984 - acc: 0.7427 - val_loss: 0.6426 - val_acc: 0.7532\n",
      "Epoch 108/500\n",
      "614/614 [==============================] - 0s 131us/step - loss: 0.6020 - acc: 0.7476 - val_loss: 0.6449 - val_acc: 0.7468\n",
      "Epoch 109/500\n",
      "614/614 [==============================] - 0s 146us/step - loss: 0.5952 - acc: 0.7492 - val_loss: 0.6387 - val_acc: 0.7792\n",
      "Epoch 110/500\n",
      "614/614 [==============================] - 0s 125us/step - loss: 0.5872 - acc: 0.7557 - val_loss: 0.6369 - val_acc: 0.7468\n",
      "Epoch 111/500\n",
      "614/614 [==============================] - 0s 150us/step - loss: 0.5958 - acc: 0.7459 - val_loss: 0.6503 - val_acc: 0.7143\n",
      "Epoch 112/500\n",
      "614/614 [==============================] - 0s 149us/step - loss: 0.5957 - acc: 0.7394 - val_loss: 0.6406 - val_acc: 0.7662\n",
      "Epoch 113/500\n",
      "614/614 [==============================] - 0s 177us/step - loss: 0.5931 - acc: 0.7394 - val_loss: 0.6426 - val_acc: 0.7468\n",
      "Epoch 114/500\n",
      "614/614 [==============================] - 0s 111us/step - loss: 0.5903 - acc: 0.7329 - val_loss: 0.6558 - val_acc: 0.7338\n",
      "Epoch 115/500\n",
      "614/614 [==============================] - 0s 81us/step - loss: 0.5866 - acc: 0.7362 - val_loss: 0.6191 - val_acc: 0.7597\n",
      "Epoch 116/500\n",
      "614/614 [==============================] - 0s 93us/step - loss: 0.5960 - acc: 0.7427 - val_loss: 0.6298 - val_acc: 0.7532\n",
      "Epoch 117/500\n",
      "614/614 [==============================] - 0s 84us/step - loss: 0.5839 - acc: 0.7329 - val_loss: 0.6191 - val_acc: 0.7792\n",
      "Epoch 118/500\n",
      "614/614 [==============================] - 0s 67us/step - loss: 0.5797 - acc: 0.7459 - val_loss: 0.6253 - val_acc: 0.7403\n",
      "Epoch 119/500\n",
      "614/614 [==============================] - 0s 58us/step - loss: 0.5910 - acc: 0.7085 - val_loss: 0.6268 - val_acc: 0.7403\n",
      "Epoch 120/500\n",
      "614/614 [==============================] - 0s 64us/step - loss: 0.5770 - acc: 0.7394 - val_loss: 0.6193 - val_acc: 0.7532\n",
      "Epoch 121/500\n"
     ]
    },
    {
     "name": "stdout",
     "output_type": "stream",
     "text": [
      "614/614 [==============================] - 0s 58us/step - loss: 0.5746 - acc: 0.7476 - val_loss: 0.6119 - val_acc: 0.7532\n",
      "Epoch 122/500\n",
      "614/614 [==============================] - 0s 54us/step - loss: 0.5821 - acc: 0.7329 - val_loss: 0.6270 - val_acc: 0.7662\n",
      "Epoch 123/500\n",
      "614/614 [==============================] - 0s 59us/step - loss: 0.5953 - acc: 0.7199 - val_loss: 0.6250 - val_acc: 0.7013\n",
      "Epoch 124/500\n",
      "614/614 [==============================] - 0s 56us/step - loss: 0.5789 - acc: 0.7345 - val_loss: 0.6172 - val_acc: 0.7792\n",
      "Epoch 125/500\n",
      "614/614 [==============================] - 0s 61us/step - loss: 0.5740 - acc: 0.7410 - val_loss: 0.6110 - val_acc: 0.7273\n",
      "Epoch 126/500\n",
      "614/614 [==============================] - 0s 57us/step - loss: 0.5721 - acc: 0.7345 - val_loss: 0.6073 - val_acc: 0.7662\n",
      "Epoch 127/500\n",
      "614/614 [==============================] - 0s 58us/step - loss: 0.5793 - acc: 0.7345 - val_loss: 0.6127 - val_acc: 0.7403\n",
      "Epoch 128/500\n",
      "614/614 [==============================] - 0s 74us/step - loss: 0.5779 - acc: 0.7378 - val_loss: 0.6682 - val_acc: 0.7338\n",
      "Epoch 129/500\n",
      "614/614 [==============================] - 0s 106us/step - loss: 0.5653 - acc: 0.7622 - val_loss: 0.6146 - val_acc: 0.7532\n",
      "Epoch 130/500\n",
      "614/614 [==============================] - 0s 108us/step - loss: 0.5658 - acc: 0.7378 - val_loss: 0.6097 - val_acc: 0.7273\n",
      "Epoch 131/500\n",
      "614/614 [==============================] - 0s 119us/step - loss: 0.5711 - acc: 0.7378 - val_loss: 0.6467 - val_acc: 0.7143\n",
      "Epoch 132/500\n",
      "614/614 [==============================] - 0s 81us/step - loss: 0.5813 - acc: 0.7492 - val_loss: 0.6184 - val_acc: 0.7468\n",
      "Epoch 133/500\n",
      "614/614 [==============================] - 0s 59us/step - loss: 0.5644 - acc: 0.7459 - val_loss: 0.6142 - val_acc: 0.7597\n",
      "Epoch 134/500\n",
      "614/614 [==============================] - 0s 60us/step - loss: 0.5598 - acc: 0.7606 - val_loss: 0.6022 - val_acc: 0.7403\n",
      "Epoch 135/500\n",
      "614/614 [==============================] - 0s 58us/step - loss: 0.5760 - acc: 0.7329 - val_loss: 0.6417 - val_acc: 0.7143\n",
      "Epoch 136/500\n",
      "614/614 [==============================] - 0s 57us/step - loss: 0.5582 - acc: 0.7541 - val_loss: 0.5882 - val_acc: 0.7338\n",
      "Epoch 137/500\n",
      "614/614 [==============================] - 0s 59us/step - loss: 0.5586 - acc: 0.7655 - val_loss: 0.5920 - val_acc: 0.7403\n",
      "Epoch 138/500\n",
      "614/614 [==============================] - 0s 59us/step - loss: 0.5580 - acc: 0.7492 - val_loss: 0.5993 - val_acc: 0.7468\n",
      "Epoch 139/500\n",
      "614/614 [==============================] - 0s 59us/step - loss: 0.5529 - acc: 0.7296 - val_loss: 0.6068 - val_acc: 0.7532\n",
      "Epoch 140/500\n",
      "614/614 [==============================] - 0s 58us/step - loss: 0.5588 - acc: 0.7541 - val_loss: 0.5945 - val_acc: 0.7468\n",
      "Epoch 141/500\n",
      "614/614 [==============================] - 0s 70us/step - loss: 0.5454 - acc: 0.7524 - val_loss: 0.5977 - val_acc: 0.7987\n",
      "Epoch 142/500\n",
      "614/614 [==============================] - 0s 62us/step - loss: 0.5480 - acc: 0.7655 - val_loss: 0.5967 - val_acc: 0.7727\n",
      "Epoch 143/500\n",
      "614/614 [==============================] - 0s 60us/step - loss: 0.5511 - acc: 0.7492 - val_loss: 0.6205 - val_acc: 0.7403\n",
      "Epoch 144/500\n",
      "614/614 [==============================] - 0s 59us/step - loss: 0.5509 - acc: 0.7459 - val_loss: 0.5892 - val_acc: 0.7532\n",
      "Epoch 145/500\n",
      "614/614 [==============================] - 0s 58us/step - loss: 0.5387 - acc: 0.7590 - val_loss: 0.5928 - val_acc: 0.7727\n",
      "Epoch 146/500\n",
      "614/614 [==============================] - 0s 59us/step - loss: 0.5501 - acc: 0.7590 - val_loss: 0.5844 - val_acc: 0.7468\n",
      "Epoch 147/500\n",
      "614/614 [==============================] - 0s 57us/step - loss: 0.5440 - acc: 0.7557 - val_loss: 0.5980 - val_acc: 0.7468\n",
      "Epoch 148/500\n",
      "614/614 [==============================] - 0s 56us/step - loss: 0.5361 - acc: 0.7622 - val_loss: 0.5919 - val_acc: 0.7597\n",
      "Epoch 149/500\n",
      "614/614 [==============================] - 0s 56us/step - loss: 0.5452 - acc: 0.7492 - val_loss: 0.5787 - val_acc: 0.7727\n",
      "Epoch 150/500\n",
      "614/614 [==============================] - 0s 56us/step - loss: 0.5472 - acc: 0.7459 - val_loss: 0.5954 - val_acc: 0.7662\n",
      "Epoch 151/500\n",
      "614/614 [==============================] - 0s 57us/step - loss: 0.5390 - acc: 0.7541 - val_loss: 0.6101 - val_acc: 0.7403\n",
      "Epoch 152/500\n",
      "614/614 [==============================] - 0s 55us/step - loss: 0.5400 - acc: 0.7590 - val_loss: 0.5880 - val_acc: 0.7857\n",
      "Epoch 153/500\n",
      "614/614 [==============================] - 0s 58us/step - loss: 0.5373 - acc: 0.7557 - val_loss: 0.6645 - val_acc: 0.6818\n",
      "Epoch 154/500\n",
      "614/614 [==============================] - 0s 56us/step - loss: 0.5378 - acc: 0.7590 - val_loss: 0.5973 - val_acc: 0.7403\n",
      "Epoch 155/500\n",
      "614/614 [==============================] - 0s 57us/step - loss: 0.5461 - acc: 0.7476 - val_loss: 0.5738 - val_acc: 0.7532\n",
      "Epoch 156/500\n",
      "614/614 [==============================] - 0s 58us/step - loss: 0.5402 - acc: 0.7573 - val_loss: 0.5805 - val_acc: 0.7597\n",
      "Epoch 157/500\n",
      "614/614 [==============================] - 0s 56us/step - loss: 0.5458 - acc: 0.7443 - val_loss: 0.6334 - val_acc: 0.7468\n",
      "Epoch 158/500\n",
      "614/614 [==============================] - 0s 56us/step - loss: 0.5297 - acc: 0.7622 - val_loss: 0.5739 - val_acc: 0.7468\n",
      "Epoch 159/500\n",
      "614/614 [==============================] - 0s 56us/step - loss: 0.5326 - acc: 0.7573 - val_loss: 0.5785 - val_acc: 0.7857\n",
      "Epoch 160/500\n",
      "614/614 [==============================] - 0s 56us/step - loss: 0.5370 - acc: 0.7671 - val_loss: 0.5956 - val_acc: 0.7532\n",
      "Epoch 161/500\n",
      "614/614 [==============================] - 0s 57us/step - loss: 0.5130 - acc: 0.7736 - val_loss: 0.5720 - val_acc: 0.7403\n",
      "Epoch 162/500\n",
      "614/614 [==============================] - 0s 55us/step - loss: 0.5309 - acc: 0.7476 - val_loss: 0.5766 - val_acc: 0.7597\n",
      "Epoch 163/500\n",
      "614/614 [==============================] - 0s 57us/step - loss: 0.5370 - acc: 0.7590 - val_loss: 0.5644 - val_acc: 0.7857\n",
      "Epoch 164/500\n",
      "614/614 [==============================] - 0s 57us/step - loss: 0.5188 - acc: 0.7720 - val_loss: 0.5772 - val_acc: 0.7468\n",
      "Epoch 165/500\n",
      "614/614 [==============================] - 0s 57us/step - loss: 0.5246 - acc: 0.7524 - val_loss: 0.5784 - val_acc: 0.7532\n",
      "Epoch 166/500\n",
      "614/614 [==============================] - 0s 58us/step - loss: 0.5240 - acc: 0.7492 - val_loss: 0.5795 - val_acc: 0.7532\n",
      "Epoch 167/500\n",
      "614/614 [==============================] - 0s 57us/step - loss: 0.5456 - acc: 0.7427 - val_loss: 0.5714 - val_acc: 0.7727\n",
      "Epoch 168/500\n",
      "614/614 [==============================] - 0s 56us/step - loss: 0.5204 - acc: 0.7785 - val_loss: 0.5839 - val_acc: 0.7857\n",
      "Epoch 169/500\n",
      "614/614 [==============================] - 0s 57us/step - loss: 0.5122 - acc: 0.7671 - val_loss: 0.5793 - val_acc: 0.7338\n",
      "Epoch 170/500\n",
      "614/614 [==============================] - 0s 58us/step - loss: 0.5157 - acc: 0.7769 - val_loss: 0.5639 - val_acc: 0.7727\n",
      "Epoch 171/500\n",
      "614/614 [==============================] - 0s 56us/step - loss: 0.5159 - acc: 0.7655 - val_loss: 0.5805 - val_acc: 0.7597\n",
      "Epoch 172/500\n",
      "614/614 [==============================] - 0s 55us/step - loss: 0.5057 - acc: 0.7671 - val_loss: 0.5717 - val_acc: 0.7597\n",
      "Epoch 173/500\n",
      "614/614 [==============================] - 0s 59us/step - loss: 0.5070 - acc: 0.7671 - val_loss: 0.5806 - val_acc: 0.7597\n",
      "Epoch 174/500\n",
      "614/614 [==============================] - 0s 56us/step - loss: 0.5487 - acc: 0.7606 - val_loss: 0.5532 - val_acc: 0.7792\n",
      "Epoch 175/500\n",
      "614/614 [==============================] - 0s 55us/step - loss: 0.5162 - acc: 0.7720 - val_loss: 0.5926 - val_acc: 0.7662\n",
      "Epoch 176/500\n",
      "614/614 [==============================] - 0s 56us/step - loss: 0.4987 - acc: 0.7687 - val_loss: 0.5607 - val_acc: 0.7922\n",
      "Epoch 177/500\n",
      "614/614 [==============================] - 0s 56us/step - loss: 0.5050 - acc: 0.7866 - val_loss: 0.5623 - val_acc: 0.7662\n",
      "Epoch 178/500\n",
      "614/614 [==============================] - 0s 57us/step - loss: 0.5231 - acc: 0.7541 - val_loss: 0.5585 - val_acc: 0.7662\n",
      "Epoch 179/500\n",
      "614/614 [==============================] - 0s 55us/step - loss: 0.5189 - acc: 0.7638 - val_loss: 0.5897 - val_acc: 0.7403\n",
      "Epoch 180/500\n",
      "614/614 [==============================] - 0s 56us/step - loss: 0.5147 - acc: 0.7671 - val_loss: 0.5727 - val_acc: 0.7987\n",
      "Epoch 181/500\n"
     ]
    },
    {
     "name": "stdout",
     "output_type": "stream",
     "text": [
      "614/614 [==============================] - 0s 57us/step - loss: 0.5035 - acc: 0.7671 - val_loss: 0.5677 - val_acc: 0.7662\n",
      "Epoch 182/500\n",
      "614/614 [==============================] - 0s 60us/step - loss: 0.4929 - acc: 0.7834 - val_loss: 0.5698 - val_acc: 0.7792\n",
      "Epoch 183/500\n",
      "614/614 [==============================] - 0s 56us/step - loss: 0.4991 - acc: 0.7736 - val_loss: 0.5786 - val_acc: 0.7208\n",
      "Epoch 184/500\n",
      "614/614 [==============================] - 0s 55us/step - loss: 0.5053 - acc: 0.7687 - val_loss: 0.5605 - val_acc: 0.7727\n",
      "Epoch 185/500\n",
      "614/614 [==============================] - 0s 56us/step - loss: 0.5122 - acc: 0.7704 - val_loss: 0.5663 - val_acc: 0.7338\n",
      "Epoch 186/500\n",
      "614/614 [==============================] - 0s 58us/step - loss: 0.4969 - acc: 0.7769 - val_loss: 0.5752 - val_acc: 0.7208\n",
      "Epoch 187/500\n",
      "614/614 [==============================] - 0s 56us/step - loss: 0.4986 - acc: 0.7671 - val_loss: 0.5525 - val_acc: 0.7468\n",
      "Epoch 188/500\n",
      "614/614 [==============================] - 0s 56us/step - loss: 0.5063 - acc: 0.7785 - val_loss: 0.5566 - val_acc: 0.7532\n",
      "Epoch 189/500\n",
      "614/614 [==============================] - 0s 57us/step - loss: 0.5012 - acc: 0.7752 - val_loss: 0.5614 - val_acc: 0.7597\n",
      "Epoch 190/500\n",
      "614/614 [==============================] - 0s 56us/step - loss: 0.5063 - acc: 0.7720 - val_loss: 0.5559 - val_acc: 0.7987\n",
      "Epoch 191/500\n",
      "614/614 [==============================] - 0s 56us/step - loss: 0.4817 - acc: 0.7785 - val_loss: 0.5997 - val_acc: 0.7468\n",
      "Epoch 192/500\n",
      "614/614 [==============================] - 0s 55us/step - loss: 0.5178 - acc: 0.7818 - val_loss: 0.5584 - val_acc: 0.7662\n",
      "Epoch 193/500\n",
      "614/614 [==============================] - 0s 56us/step - loss: 0.5022 - acc: 0.7606 - val_loss: 0.5647 - val_acc: 0.7532\n",
      "Epoch 194/500\n",
      "614/614 [==============================] - 0s 58us/step - loss: 0.4916 - acc: 0.7818 - val_loss: 0.5588 - val_acc: 0.7727\n",
      "Epoch 195/500\n",
      "614/614 [==============================] - 0s 56us/step - loss: 0.4807 - acc: 0.7850 - val_loss: 0.6048 - val_acc: 0.7532\n",
      "Epoch 196/500\n",
      "614/614 [==============================] - 0s 56us/step - loss: 0.4874 - acc: 0.7655 - val_loss: 0.5745 - val_acc: 0.7532\n",
      "Epoch 197/500\n",
      "614/614 [==============================] - 0s 55us/step - loss: 0.5047 - acc: 0.7720 - val_loss: 0.5431 - val_acc: 0.7532\n",
      "Epoch 198/500\n",
      "614/614 [==============================] - 0s 56us/step - loss: 0.4967 - acc: 0.7671 - val_loss: 0.5639 - val_acc: 0.7532\n",
      "Epoch 199/500\n",
      "614/614 [==============================] - 0s 57us/step - loss: 0.4841 - acc: 0.7671 - val_loss: 0.5583 - val_acc: 0.7597\n",
      "Epoch 200/500\n",
      "614/614 [==============================] - 0s 56us/step - loss: 0.4948 - acc: 0.7687 - val_loss: 0.5579 - val_acc: 0.7922\n",
      "Epoch 201/500\n",
      "614/614 [==============================] - 0s 57us/step - loss: 0.4930 - acc: 0.7736 - val_loss: 0.5651 - val_acc: 0.7532\n",
      "Epoch 202/500\n",
      "614/614 [==============================] - 0s 56us/step - loss: 0.4932 - acc: 0.7655 - val_loss: 0.5464 - val_acc: 0.7857\n",
      "Epoch 203/500\n",
      "614/614 [==============================] - 0s 55us/step - loss: 0.4798 - acc: 0.7752 - val_loss: 0.5641 - val_acc: 0.7922\n",
      "Epoch 204/500\n",
      "614/614 [==============================] - 0s 55us/step - loss: 0.4766 - acc: 0.7883 - val_loss: 0.5509 - val_acc: 0.7922\n",
      "Epoch 205/500\n",
      "614/614 [==============================] - 0s 56us/step - loss: 0.4887 - acc: 0.7883 - val_loss: 0.5457 - val_acc: 0.7857\n",
      "Epoch 206/500\n",
      "614/614 [==============================] - 0s 56us/step - loss: 0.4926 - acc: 0.7736 - val_loss: 0.5555 - val_acc: 0.7857\n",
      "Epoch 207/500\n",
      "614/614 [==============================] - 0s 57us/step - loss: 0.4870 - acc: 0.7850 - val_loss: 0.5365 - val_acc: 0.7792\n",
      "Epoch 208/500\n",
      "614/614 [==============================] - 0s 55us/step - loss: 0.5061 - acc: 0.7606 - val_loss: 0.5593 - val_acc: 0.7662\n",
      "Epoch 209/500\n",
      "614/614 [==============================] - 0s 59us/step - loss: 0.4864 - acc: 0.7655 - val_loss: 0.5464 - val_acc: 0.7727\n",
      "Epoch 210/500\n",
      "614/614 [==============================] - 0s 107us/step - loss: 0.4866 - acc: 0.7736 - val_loss: 0.5513 - val_acc: 0.7727\n",
      "Epoch 211/500\n",
      "614/614 [==============================] - 0s 108us/step - loss: 0.4770 - acc: 0.7720 - val_loss: 0.5444 - val_acc: 0.7922\n",
      "Epoch 212/500\n",
      "614/614 [==============================] - 0s 113us/step - loss: 0.4862 - acc: 0.7801 - val_loss: 0.5722 - val_acc: 0.7727\n",
      "Epoch 213/500\n",
      "614/614 [==============================] - 0s 110us/step - loss: 0.5252 - acc: 0.7492 - val_loss: 0.5624 - val_acc: 0.7792\n",
      "Epoch 214/500\n",
      "614/614 [==============================] - 0s 112us/step - loss: 0.4902 - acc: 0.7769 - val_loss: 0.5588 - val_acc: 0.7532\n",
      "Epoch 215/500\n",
      "614/614 [==============================] - 0s 116us/step - loss: 0.4775 - acc: 0.7736 - val_loss: 0.5522 - val_acc: 0.7468\n",
      "Epoch 216/500\n",
      "614/614 [==============================] - 0s 124us/step - loss: 0.4773 - acc: 0.7769 - val_loss: 0.5520 - val_acc: 0.7922\n",
      "Epoch 217/500\n",
      "614/614 [==============================] - 0s 108us/step - loss: 0.5027 - acc: 0.7785 - val_loss: 0.5766 - val_acc: 0.7857\n",
      "Epoch 218/500\n",
      "614/614 [==============================] - 0s 91us/step - loss: 0.4827 - acc: 0.7883 - val_loss: 0.5452 - val_acc: 0.7792\n",
      "Epoch 219/500\n",
      "614/614 [==============================] - 0s 58us/step - loss: 0.4851 - acc: 0.7638 - val_loss: 0.5606 - val_acc: 0.7403\n",
      "Epoch 220/500\n",
      "614/614 [==============================] - 0s 59us/step - loss: 0.4963 - acc: 0.7850 - val_loss: 0.5335 - val_acc: 0.7662\n",
      "Epoch 221/500\n",
      "614/614 [==============================] - 0s 64us/step - loss: 0.4862 - acc: 0.7638 - val_loss: 0.5449 - val_acc: 0.7403\n",
      "Epoch 222/500\n",
      "614/614 [==============================] - 0s 60us/step - loss: 0.4802 - acc: 0.7687 - val_loss: 0.5620 - val_acc: 0.7662\n",
      "Epoch 223/500\n",
      "614/614 [==============================] - 0s 62us/step - loss: 0.4853 - acc: 0.7606 - val_loss: 0.5622 - val_acc: 0.7597\n",
      "Epoch 224/500\n",
      "614/614 [==============================] - 0s 61us/step - loss: 0.4838 - acc: 0.7834 - val_loss: 0.5555 - val_acc: 0.7468\n",
      "Epoch 225/500\n",
      "614/614 [==============================] - 0s 63us/step - loss: 0.4844 - acc: 0.7866 - val_loss: 0.5465 - val_acc: 0.7532\n",
      "Epoch 226/500\n",
      "614/614 [==============================] - 0s 110us/step - loss: 0.4816 - acc: 0.7622 - val_loss: 0.5485 - val_acc: 0.7857\n",
      "Epoch 227/500\n",
      "614/614 [==============================] - 0s 104us/step - loss: 0.4814 - acc: 0.7834 - val_loss: 0.5449 - val_acc: 0.7662\n",
      "Epoch 228/500\n",
      "614/614 [==============================] - 0s 118us/step - loss: 0.4941 - acc: 0.7801 - val_loss: 0.5410 - val_acc: 0.7792\n",
      "Epoch 229/500\n",
      "614/614 [==============================] - 0s 66us/step - loss: 0.4760 - acc: 0.7736 - val_loss: 0.5614 - val_acc: 0.7727\n",
      "Epoch 230/500\n",
      "614/614 [==============================] - 0s 58us/step - loss: 0.4793 - acc: 0.7850 - val_loss: 0.5734 - val_acc: 0.7403\n",
      "Epoch 231/500\n",
      "614/614 [==============================] - 0s 57us/step - loss: 0.4855 - acc: 0.7736 - val_loss: 0.5491 - val_acc: 0.7597\n",
      "Epoch 232/500\n",
      "614/614 [==============================] - 0s 56us/step - loss: 0.4892 - acc: 0.7752 - val_loss: 0.5458 - val_acc: 0.7792\n",
      "Epoch 233/500\n",
      "614/614 [==============================] - 0s 72us/step - loss: 0.4782 - acc: 0.7834 - val_loss: 0.5484 - val_acc: 0.7662\n",
      "Epoch 234/500\n",
      "614/614 [==============================] - 0s 77us/step - loss: 0.4635 - acc: 0.8046 - val_loss: 0.5368 - val_acc: 0.7857\n",
      "Epoch 235/500\n",
      "614/614 [==============================] - 0s 82us/step - loss: 0.4719 - acc: 0.7818 - val_loss: 0.5466 - val_acc: 0.7597\n",
      "Epoch 236/500\n",
      "614/614 [==============================] - 0s 83us/step - loss: 0.4659 - acc: 0.7883 - val_loss: 0.5480 - val_acc: 0.7857\n",
      "Epoch 237/500\n",
      "614/614 [==============================] - 0s 122us/step - loss: 0.4698 - acc: 0.7720 - val_loss: 0.5486 - val_acc: 0.7922\n",
      "Epoch 238/500\n",
      "614/614 [==============================] - 0s 124us/step - loss: 0.4829 - acc: 0.7720 - val_loss: 0.5384 - val_acc: 0.7922\n",
      "Epoch 239/500\n",
      "614/614 [==============================] - 0s 66us/step - loss: 0.4671 - acc: 0.7883 - val_loss: 0.5441 - val_acc: 0.7727\n",
      "Epoch 240/500\n",
      "614/614 [==============================] - 0s 59us/step - loss: 0.4812 - acc: 0.7834 - val_loss: 0.5508 - val_acc: 0.7403\n",
      "Epoch 241/500\n"
     ]
    },
    {
     "name": "stdout",
     "output_type": "stream",
     "text": [
      "614/614 [==============================] - 0s 100us/step - loss: 0.4822 - acc: 0.7785 - val_loss: 0.5825 - val_acc: 0.7857\n",
      "Epoch 242/500\n",
      "614/614 [==============================] - 0s 76us/step - loss: 0.4627 - acc: 0.7915 - val_loss: 0.5503 - val_acc: 0.7532\n",
      "Epoch 243/500\n",
      "614/614 [==============================] - 0s 75us/step - loss: 0.4644 - acc: 0.7932 - val_loss: 0.5441 - val_acc: 0.7792\n",
      "Epoch 244/500\n",
      "614/614 [==============================] - 0s 107us/step - loss: 0.4725 - acc: 0.7850 - val_loss: 0.5421 - val_acc: 0.7727\n",
      "Epoch 245/500\n",
      "614/614 [==============================] - 0s 108us/step - loss: 0.4879 - acc: 0.7622 - val_loss: 0.5467 - val_acc: 0.7403\n",
      "Epoch 246/500\n",
      "614/614 [==============================] - 0s 123us/step - loss: 0.4813 - acc: 0.7769 - val_loss: 0.5516 - val_acc: 0.7597\n",
      "Epoch 247/500\n",
      "614/614 [==============================] - 0s 109us/step - loss: 0.4761 - acc: 0.7769 - val_loss: 0.5586 - val_acc: 0.7338\n",
      "Epoch 248/500\n",
      "614/614 [==============================] - 0s 110us/step - loss: 0.4689 - acc: 0.7948 - val_loss: 0.5480 - val_acc: 0.7597\n",
      "Epoch 249/500\n",
      "614/614 [==============================] - 0s 120us/step - loss: 0.4759 - acc: 0.7638 - val_loss: 0.5512 - val_acc: 0.7597\n",
      "Epoch 250/500\n",
      "614/614 [==============================] - 0s 119us/step - loss: 0.4646 - acc: 0.7850 - val_loss: 0.5509 - val_acc: 0.7922\n",
      "Epoch 251/500\n",
      "614/614 [==============================] - 0s 132us/step - loss: 0.4747 - acc: 0.7801 - val_loss: 0.5620 - val_acc: 0.7532\n",
      "Epoch 252/500\n",
      "614/614 [==============================] - 0s 125us/step - loss: 0.4988 - acc: 0.7687 - val_loss: 0.5444 - val_acc: 0.7987\n",
      "Epoch 253/500\n",
      "614/614 [==============================] - 0s 62us/step - loss: 0.4764 - acc: 0.7785 - val_loss: 0.5571 - val_acc: 0.7662\n",
      "Epoch 254/500\n",
      "614/614 [==============================] - 0s 110us/step - loss: 0.4826 - acc: 0.7736 - val_loss: 0.5466 - val_acc: 0.7857\n",
      "Epoch 255/500\n",
      "614/614 [==============================] - 0s 124us/step - loss: 0.4692 - acc: 0.7801 - val_loss: 0.5970 - val_acc: 0.7597\n",
      "Epoch 256/500\n",
      "614/614 [==============================] - 0s 74us/step - loss: 0.4778 - acc: 0.7557 - val_loss: 0.5406 - val_acc: 0.7792\n",
      "Epoch 257/500\n",
      "614/614 [==============================] - 0s 64us/step - loss: 0.4591 - acc: 0.7932 - val_loss: 0.5476 - val_acc: 0.7532\n",
      "Epoch 258/500\n",
      "614/614 [==============================] - 0s 64us/step - loss: 0.4859 - acc: 0.7687 - val_loss: 0.5366 - val_acc: 0.7727\n",
      "Epoch 259/500\n",
      "614/614 [==============================] - 0s 62us/step - loss: 0.4777 - acc: 0.7883 - val_loss: 0.5471 - val_acc: 0.7987\n",
      "Epoch 260/500\n",
      "614/614 [==============================] - 0s 64us/step - loss: 0.4716 - acc: 0.7932 - val_loss: 0.5570 - val_acc: 0.7662\n",
      "Epoch 261/500\n",
      "614/614 [==============================] - 0s 69us/step - loss: 0.4614 - acc: 0.7752 - val_loss: 0.5743 - val_acc: 0.7857\n",
      "Epoch 262/500\n",
      "614/614 [==============================] - 0s 119us/step - loss: 0.4564 - acc: 0.7997 - val_loss: 0.5584 - val_acc: 0.7338\n",
      "Epoch 263/500\n",
      "614/614 [==============================] - 0s 127us/step - loss: 0.4666 - acc: 0.7866 - val_loss: 0.5482 - val_acc: 0.7662\n",
      "Epoch 264/500\n",
      "614/614 [==============================] - 0s 109us/step - loss: 0.4648 - acc: 0.7883 - val_loss: 0.5538 - val_acc: 0.7338\n",
      "Epoch 265/500\n",
      "614/614 [==============================] - 0s 68us/step - loss: 0.4644 - acc: 0.7752 - val_loss: 0.5421 - val_acc: 0.7597\n",
      "Epoch 266/500\n",
      "614/614 [==============================] - 0s 59us/step - loss: 0.4640 - acc: 0.7769 - val_loss: 0.5583 - val_acc: 0.7727\n",
      "Epoch 267/500\n",
      "614/614 [==============================] - 0s 64us/step - loss: 0.4606 - acc: 0.7834 - val_loss: 0.5512 - val_acc: 0.7662\n",
      "Epoch 268/500\n",
      "614/614 [==============================] - 0s 118us/step - loss: 0.4751 - acc: 0.7834 - val_loss: 0.5423 - val_acc: 0.8052\n",
      "Epoch 269/500\n",
      "614/614 [==============================] - 0s 118us/step - loss: 0.4630 - acc: 0.7866 - val_loss: 0.5432 - val_acc: 0.7727\n",
      "Epoch 270/500\n",
      "614/614 [==============================] - 0s 122us/step - loss: 0.4543 - acc: 0.7948 - val_loss: 0.5802 - val_acc: 0.7857\n"
     ]
    }
   ],
   "source": [
    "tensorboard = TensorBoard(log_dir='./logs', histogram_freq=10)\n",
    "\n",
    "earlystopping = EarlyStopping(monitor='val_loss', patience=50)\n",
    "\n",
    "history = model.fit(X_train, y_train, epochs=500, batch_size=16, verbose=1, \n",
    "                    validation_data=(X_test, y_test), \n",
    "                    callbacks=[tensorboard,earlystopping])"
   ]
  },
  {
   "cell_type": "code",
   "execution_count": 10,
   "metadata": {
    "colab": {
     "base_uri": "https://localhost:8080/",
     "height": 51
    },
    "colab_type": "code",
    "id": "BBPXxC4S_OaG",
    "outputId": "41419a20-c143-4043-90f8-afc0df8552fe"
   },
   "outputs": [
    {
     "name": "stdout",
     "output_type": "stream",
     "text": [
      "154/154 [==============================] - 0s 97us/step\n"
     ]
    },
    {
     "data": {
      "text/plain": [
       "[0.5801861456462315, 0.7857142872624583]"
      ]
     },
     "execution_count": 10,
     "metadata": {},
     "output_type": "execute_result"
    }
   ],
   "source": [
    "model.evaluate(X_test, y_test)"
   ]
  },
  {
   "cell_type": "code",
   "execution_count": 11,
   "metadata": {
    "colab": {
     "base_uri": "https://localhost:8080/",
     "height": 282
    },
    "colab_type": "code",
    "id": "ZeAcqc5F_Ocy",
    "outputId": "ff1cfb03-ee38-4d7c-ae55-3c9b169955a5"
   },
   "outputs": [
    {
     "data": {
      "text/plain": [
       "[<matplotlib.lines.Line2D at 0x7f428468db38>]"
      ]
     },
     "execution_count": 11,
     "metadata": {},
     "output_type": "execute_result"
    },
    {
     "data": {
      "image/png": "[encoded data removed]",
      "text/plain": [
       "<Figure size 432x288 with 1 Axes>"
      ]
     },
     "metadata": {},
     "output_type": "display_data"
    }
   ],
   "source": [
    "plt.plot(history.history['val_loss'])\n",
    "plt.plot(history.history['loss'])"
   ]
  },
  {
   "cell_type": "code",
   "execution_count": 12,
   "metadata": {
    "colab": {
     "base_uri": "https://localhost:8080/",
     "height": 282
    },
    "colab_type": "code",
    "id": "j6Cc-WvWv6bx",
    "outputId": "3fe8c42d-9fbe-4303-bfbf-6087d7241fd9"
   },
   "outputs": [
    {
     "data": {
      "text/plain": [
       "[<matplotlib.lines.Line2D at 0x7f427815d080>]"
      ]
     },
     "execution_count": 12,
     "metadata": {},
     "output_type": "execute_result"
    },
    {
     "data": {
      "image/png": "[encoded data removed]",
      "text/plain": [
       "<Figure size 432x288 with 1 Axes>"
      ]
     },
     "metadata": {},
     "output_type": "display_data"
    }
   ],
   "source": [
    "plt.plot(history.history['val_acc'])\n",
    "plt.plot(history.history['acc'])"
   ]
  },
  {
   "cell_type": "code",
   "execution_count": 13,
   "metadata": {
    "colab": {
     "base_uri": "https://localhost:8080/",
     "height": 51
    },
    "colab_type": "code",
    "id": "e_kJ3Ckol8Vy",
    "outputId": "023a3f84-ba5f-47a8-8e9f-8e2af5ca8eec"
   },
   "outputs": [
    {
     "data": {
      "text/plain": [
       "array([[93,  6],\n",
       "       [27, 28]])"
      ]
     },
     "execution_count": 13,
     "metadata": {},
     "output_type": "execute_result"
    }
   ],
   "source": [
    "from sklearn import metrics\n",
    "\n",
    "prediction = [1 if x > 0.5 else 0 for x in model.predict(X_test)]\n",
    "metrics.confusion_matrix(y_test, prediction)"
   ]
  },
  {
   "cell_type": "code",
   "execution_count": 14,
   "metadata": {
    "colab": {
     "base_uri": "https://localhost:8080/",
     "height": 34
    },
    "colab_type": "code",
    "id": "WUOCK3aQsGA0",
    "outputId": "8ccefff3-933c-43eb-f1ba-50a234e01055"
   },
   "outputs": [
    {
     "data": {
      "text/plain": [
       "0.7857142857142857"
      ]
     },
     "execution_count": 14,
     "metadata": {},
     "output_type": "execute_result"
    }
   ],
   "source": [
    "metrics.accuracy_score(y_test, prediction)"
   ]
  },
  {
   "cell_type": "code",
   "execution_count": null,
   "metadata": {
    "colab": {},
    "colab_type": "code",
    "id": "8q_nXt6dshis"
   },
   "outputs": [],
   "source": []
  }
 ],
 "metadata": {
  "accelerator": "TPU",
  "colab": {
   "name": "Keras-com-Tensorflow.ipynb",
   "provenance": [],
   "version": "0.3.2"
  },
  "kernelspec": {
   "display_name": "Python 3",
   "language": "python",
   "name": "python3"
  },
  "language_info": {
   "codemirror_mode": {
    "name": "ipython",
    "version": 3
   },
   "file_extension": ".py",
   "mimetype": "text/x-python",
   "name": "python",
   "nbconvert_exporter": "python",
   "pygments_lexer": "ipython3",
   "version": "3.6.5"
  }
 },
 "nbformat": 4,
 "nbformat_minor": 1
}
